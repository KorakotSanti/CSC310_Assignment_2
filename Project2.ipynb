{
 "cells": [
  {
   "cell_type": "markdown",
   "metadata": {},
   "source": [
    "# CSC310 Assignment #2\n"
   ]
  },
  {
   "cell_type": "markdown",
   "metadata": {},
   "source": [
    "Salaries for Professors\n",
    "=============================\n",
    "From R datasets"
   ]
  },
  {
   "cell_type": "code",
   "execution_count": 1,
   "metadata": {},
   "outputs": [],
   "source": [
    "import pandas as pd"
   ]
  },
  {
   "cell_type": "code",
   "execution_count": 2,
   "metadata": {},
   "outputs": [],
   "source": [
    "salary_df = pd.read_csv(\"./dataset/Salaries.csv\")"
   ]
  },
  {
   "cell_type": "code",
   "execution_count": 3,
   "metadata": {},
   "outputs": [],
   "source": [
    "# get the row and col of the dataframe and store them into variables\n",
    "srow, scol = salary_df.shape"
   ]
  },
  {
   "cell_type": "code",
   "execution_count": 4,
   "metadata": {},
   "outputs": [
    {
     "name": "stdout",
     "output_type": "stream",
     "text": [
      "There are 397 rows and 7 columns in Salaries dataset untouched.\n"
     ]
    }
   ],
   "source": [
    "print(f'There are {srow} rows and {scol} columns in Salaries dataset untouched.')"
   ]
  },
  {
   "cell_type": "code",
   "execution_count": 5,
   "metadata": {},
   "outputs": [
    {
     "name": "stdout",
     "output_type": "stream",
     "text": [
      "     Unnamed: 0      rank discipline  yrs.since.phd  yrs.service   sex  salary\n",
      "0             1      Prof          B             19           18  Male  139750\n",
      "1             2      Prof          B             20           16  Male  173200\n",
      "2             3  AsstProf          B              4            3  Male   79750\n",
      "3             4      Prof          B             45           39  Male  115000\n",
      "4             5      Prof          B             40           41  Male  141500\n",
      "..          ...       ...        ...            ...          ...   ...     ...\n",
      "392         393      Prof          A             33           30  Male  103106\n",
      "393         394      Prof          A             31           19  Male  150564\n",
      "394         395      Prof          A             42           25  Male  101738\n",
      "395         396      Prof          A             25           15  Male   95329\n",
      "396         397  AsstProf          A              8            4  Male   81035\n",
      "\n",
      "[397 rows x 7 columns]\n"
     ]
    }
   ],
   "source": [
    "print(salary_df)"
   ]
  },
  {
   "cell_type": "code",
   "execution_count": 6,
   "metadata": {},
   "outputs": [
    {
     "data": {
      "text/plain": [
       "Index(['Unnamed: 0', 'rank', 'discipline', 'yrs.since.phd', 'yrs.service',\n",
       "       'sex', 'salary'],\n",
       "      dtype='object')"
      ]
     },
     "execution_count": 6,
     "metadata": {},
     "output_type": "execute_result"
    }
   ],
   "source": [
    "salary_df.columns"
   ]
  },
  {
   "cell_type": "code",
   "execution_count": 7,
   "metadata": {},
   "outputs": [],
   "source": [
    "# since Unnamed: 0 column is just the row numbers it is okay to drop it\n",
    "salary_new = salary_df.drop('Unnamed: 0', axis=1)\n",
    "# create copies of the dataframe\n",
    "# one to hold all the categorical columns and the other to hold the numerical colums\n",
    "salary_categorical = salary_new.copy()\n",
    "salary_numerical = salary_new.copy()\n",
    "# numerical will hold the name of the numerical column\n",
    "# categorical will hold the name of the categorical column\n",
    "snumerical = []\n",
    "scategorical = []"
   ]
  },
  {
   "cell_type": "code",
   "execution_count": 8,
   "metadata": {},
   "outputs": [],
   "source": [
    "#traverse through all the columns in the dataframe\n",
    "for col in salary_new.columns:\n",
    "    #check if the datatype is an object if it is not a int then it is categorical\n",
    "    if salary_new[col].dtypes == 'object':\n",
    "        # add the col val to categorical\n",
    "        scategorical+= [col]\n",
    "        salary_numerical = salary_numerical.drop(col,axis=1)\n",
    "    else:\n",
    "        snumerical+= [col]\n",
    "        salary_categorical = salary_categorical.drop(col,axis=1)"
   ]
  },
  {
   "cell_type": "code",
   "execution_count": 9,
   "metadata": {},
   "outputs": [
    {
     "name": "stdout",
     "output_type": "stream",
     "text": [
      "There are 3 columns. \n",
      "The numerical columns are... yrs.since.phd, yrs.service, salary.\n",
      "There are 3 columns. \n",
      "The categorical columns are... rank, discipline, sex.\n"
     ]
    }
   ],
   "source": [
    "print(f\"There are {len(snumerical)} columns. \\nThe numerical columns are... {', '.join(snumerical)}.\")\n",
    "print(f\"There are {len(scategorical)} columns. \\nThe categorical columns are... {', '.join(scategorical)}.\")"
   ]
  },
  {
   "cell_type": "code",
   "execution_count": 10,
   "metadata": {},
   "outputs": [
    {
     "name": "stdout",
     "output_type": "stream",
     "text": [
      "<class 'pandas.core.frame.DataFrame'>\n",
      "RangeIndex: 397 entries, 0 to 396\n",
      "Data columns (total 3 columns):\n",
      " #   Column      Non-Null Count  Dtype \n",
      "---  ------      --------------  ----- \n",
      " 0   rank        397 non-null    object\n",
      " 1   discipline  397 non-null    object\n",
      " 2   sex         397 non-null    object\n",
      "dtypes: object(3)\n",
      "memory usage: 9.4+ KB\n"
     ]
    }
   ],
   "source": [
    "salary_categorical.info()"
   ]
  },
  {
   "cell_type": "code",
   "execution_count": 11,
   "metadata": {},
   "outputs": [
    {
     "name": "stdout",
     "output_type": "stream",
     "text": [
      "<class 'pandas.core.frame.DataFrame'>\n",
      "RangeIndex: 397 entries, 0 to 396\n",
      "Data columns (total 3 columns):\n",
      " #   Column         Non-Null Count  Dtype\n",
      "---  ------         --------------  -----\n",
      " 0   yrs.since.phd  397 non-null    int64\n",
      " 1   yrs.service    397 non-null    int64\n",
      " 2   salary         397 non-null    int64\n",
      "dtypes: int64(3)\n",
      "memory usage: 9.4 KB\n"
     ]
    }
   ],
   "source": [
    "salary_numerical.info()"
   ]
  },
  {
   "cell_type": "code",
   "execution_count": 12,
   "metadata": {},
   "outputs": [
    {
     "data": {
      "text/plain": [
       "rank             0\n",
       "discipline       0\n",
       "yrs.since.phd    0\n",
       "yrs.service      0\n",
       "sex              0\n",
       "salary           0\n",
       "dtype: int64"
      ]
     },
     "execution_count": 12,
     "metadata": {},
     "output_type": "execute_result"
    }
   ],
   "source": [
    "salary_new.isnull().sum()"
   ]
  },
  {
   "cell_type": "markdown",
   "metadata": {},
   "source": [
    "According to the function call isnull() function looks at all the data in the dataframe to see if there is a missing or null value and returns true. The sum() function then sum up all the values that returns true, and this display all the nulls value in each column.\n",
    "\n",
    "According to the the chart, there is no missing data in this dataset."
   ]
  },
  {
   "cell_type": "code",
   "execution_count": null,
   "metadata": {},
   "outputs": [],
   "source": []
  },
  {
   "cell_type": "markdown",
   "metadata": {},
   "source": [
    "US Arrests Rate Dataset\n",
    "===================\n",
    "From R datasets"
   ]
  },
  {
   "cell_type": "code",
   "execution_count": 13,
   "metadata": {},
   "outputs": [],
   "source": [
    "arrests_df = pd.read_csv(\"./dataset/USArrests.csv\")"
   ]
  },
  {
   "cell_type": "code",
   "execution_count": 14,
   "metadata": {},
   "outputs": [],
   "source": [
    "arow, acol = arrests_df.shape"
   ]
  },
  {
   "cell_type": "code",
   "execution_count": 15,
   "metadata": {},
   "outputs": [
    {
     "name": "stdout",
     "output_type": "stream",
     "text": [
      "There are 50 rows and 5 columns in US Arrests rate dataset untouched.\n"
     ]
    }
   ],
   "source": [
    "print(f'There are {arow} rows and {acol} columns in US Arrests rate dataset untouched.')"
   ]
  },
  {
   "cell_type": "code",
   "execution_count": 16,
   "metadata": {},
   "outputs": [
    {
     "name": "stdout",
     "output_type": "stream",
     "text": [
      "        Unnamed: 0  Murder  Assault  UrbanPop  Rape\n",
      "0          Alabama    13.2      236        58  21.2\n",
      "1           Alaska    10.0      263        48  44.5\n",
      "2          Arizona     8.1      294        80  31.0\n",
      "3         Arkansas     8.8      190        50  19.5\n",
      "4       California     9.0      276        91  40.6\n",
      "5         Colorado     7.9      204        78  38.7\n",
      "6      Connecticut     3.3      110        77  11.1\n",
      "7         Delaware     5.9      238        72  15.8\n",
      "8          Florida    15.4      335        80  31.9\n",
      "9          Georgia    17.4      211        60  25.8\n",
      "10          Hawaii     5.3       46        83  20.2\n",
      "11           Idaho     2.6      120        54  14.2\n",
      "12        Illinois    10.4      249        83  24.0\n",
      "13         Indiana     7.2      113        65  21.0\n",
      "14            Iowa     2.2       56        57  11.3\n",
      "15          Kansas     6.0      115        66  18.0\n",
      "16        Kentucky     9.7      109        52  16.3\n",
      "17       Louisiana    15.4      249        66  22.2\n",
      "18           Maine     2.1       83        51   7.8\n",
      "19        Maryland    11.3      300        67  27.8\n",
      "20   Massachusetts     4.4      149        85  16.3\n",
      "21        Michigan    12.1      255        74  35.1\n",
      "22       Minnesota     2.7       72        66  14.9\n",
      "23     Mississippi    16.1      259        44  17.1\n",
      "24        Missouri     9.0      178        70  28.2\n",
      "25         Montana     6.0      109        53  16.4\n",
      "26        Nebraska     4.3      102        62  16.5\n",
      "27          Nevada    12.2      252        81  46.0\n",
      "28   New Hampshire     2.1       57        56   9.5\n",
      "29      New Jersey     7.4      159        89  18.8\n",
      "30      New Mexico    11.4      285        70  32.1\n",
      "31        New York    11.1      254        86  26.1\n",
      "32  North Carolina    13.0      337        45  16.1\n",
      "33    North Dakota     0.8       45        44   7.3\n",
      "34            Ohio     7.3      120        75  21.4\n",
      "35        Oklahoma     6.6      151        68  20.0\n",
      "36          Oregon     4.9      159        67  29.3\n",
      "37    Pennsylvania     6.3      106        72  14.9\n",
      "38    Rhode Island     3.4      174        87   8.3\n",
      "39  South Carolina    14.4      279        48  22.5\n",
      "40    South Dakota     3.8       86        45  12.8\n",
      "41       Tennessee    13.2      188        59  26.9\n",
      "42           Texas    12.7      201        80  25.5\n",
      "43            Utah     3.2      120        80  22.9\n",
      "44         Vermont     2.2       48        32  11.2\n",
      "45        Virginia     8.5      156        63  20.7\n",
      "46      Washington     4.0      145        73  26.2\n",
      "47   West Virginia     5.7       81        39   9.3\n",
      "48       Wisconsin     2.6       53        66  10.8\n",
      "49         Wyoming     6.8      161        60  15.6\n"
     ]
    }
   ],
   "source": [
    "print(arrests_df)"
   ]
  },
  {
   "cell_type": "code",
   "execution_count": 17,
   "metadata": {},
   "outputs": [],
   "source": [
    "# two copies of arrest dataframe one that will hold only categorical cols and the other only numerical cols\n",
    "Arrests_numerical = arrests_df.copy()\n",
    "Arrests_categorical = arrests_df.copy()\n",
    "anumerical = []\n",
    "acategorical = []"
   ]
  },
  {
   "cell_type": "code",
   "execution_count": 18,
   "metadata": {},
   "outputs": [],
   "source": [
    "# traverse through all columns in data\n",
    "for col in arrests_df:\n",
    "    # check for categorical data\n",
    "    if arrests_df[col].dtypes == 'object':\n",
    "        acategorical += [col]\n",
    "        Arrests_numerical = Arrests_numerical.drop(col,axis=1)\n",
    "    else:\n",
    "        anumerical += [col]\n",
    "        Arrests_categorical = Arrests_categorical.drop(col,axis=1)"
   ]
  },
  {
   "cell_type": "code",
   "execution_count": 20,
   "metadata": {},
   "outputs": [
    {
     "name": "stdout",
     "output_type": "stream",
     "text": [
      "There are 4 columns. \n",
      "The numerical columns are... Murder, Assault, UrbanPop, Rape.\n",
      "There are 1 columns. \n",
      "The categorical columns are... Unnamed: 0.\n"
     ]
    }
   ],
   "source": [
    "print(f\"There are {len(anumerical)} columns. \\nThe numerical columns are... {', '.join(anumerical)}.\")\n",
    "print(f\"There are {len(acategorical)} columns. \\nThe categorical columns are... {', '.join(acategorical)}.\")"
   ]
  },
  {
   "cell_type": "code",
   "execution_count": 21,
   "metadata": {},
   "outputs": [
    {
     "name": "stdout",
     "output_type": "stream",
     "text": [
      "<class 'pandas.core.frame.DataFrame'>\n",
      "RangeIndex: 50 entries, 0 to 49\n",
      "Data columns (total 4 columns):\n",
      " #   Column    Non-Null Count  Dtype  \n",
      "---  ------    --------------  -----  \n",
      " 0   Murder    50 non-null     float64\n",
      " 1   Assault   50 non-null     int64  \n",
      " 2   UrbanPop  50 non-null     int64  \n",
      " 3   Rape      50 non-null     float64\n",
      "dtypes: float64(2), int64(2)\n",
      "memory usage: 1.7 KB\n"
     ]
    }
   ],
   "source": [
    "Arrests_numerical.info()"
   ]
  },
  {
   "cell_type": "code",
   "execution_count": 22,
   "metadata": {},
   "outputs": [
    {
     "name": "stdout",
     "output_type": "stream",
     "text": [
      "<class 'pandas.core.frame.DataFrame'>\n",
      "RangeIndex: 50 entries, 0 to 49\n",
      "Data columns (total 1 columns):\n",
      " #   Column      Non-Null Count  Dtype \n",
      "---  ------      --------------  ----- \n",
      " 0   Unnamed: 0  50 non-null     object\n",
      "dtypes: object(1)\n",
      "memory usage: 528.0+ bytes\n"
     ]
    }
   ],
   "source": [
    "Arrests_categorical.info()"
   ]
  },
  {
   "cell_type": "code",
   "execution_count": 23,
   "metadata": {},
   "outputs": [
    {
     "data": {
      "text/plain": [
       "Unnamed: 0    0\n",
       "Murder        0\n",
       "Assault       0\n",
       "UrbanPop      0\n",
       "Rape          0\n",
       "dtype: int64"
      ]
     },
     "execution_count": 23,
     "metadata": {},
     "output_type": "execute_result"
    }
   ],
   "source": [
    "arrests_df.isnull().sum()"
   ]
  },
  {
   "cell_type": "markdown",
   "metadata": {},
   "source": [
    "According to the function isnull().sum() there are no missing values."
   ]
  },
  {
   "cell_type": "code",
   "execution_count": null,
   "metadata": {},
   "outputs": [],
   "source": []
  },

  {
   "cell_type": "code",
   "execution_count": 83,
   "metadata": {},
   "outputs": [
    {
     "name": "stdout",
     "output_type": "stream",
     "text": [
      "There are 397 rows in the dataframe.\n",
      "There are 7 columns in the dataframe.\n",
      "\n",
      "     Unnamed: 0       rank discipline  yrs.since.phd  yrs.service     sex  \\\n",
      "0             1       Prof          B             19           18    Male   \n",
      "1             2       Prof          B             20           16    Male   \n",
      "2             3   AsstProf          B              4            3    Male   \n",
      "3             4       Prof          B             45           39    Male   \n",
      "4             5       Prof          B             40           41    Male   \n",
      "5             6  AssocProf          B              6            6    Male   \n",
      "6             7       Prof          B             30           23    Male   \n",
      "7             8       Prof          B             45           45    Male   \n",
      "8             9       Prof          B             21           20    Male   \n",
      "9            10       Prof          B             18           18  Female   \n",
      "10           11  AssocProf          B             12            8    Male   \n",
      "11           12   AsstProf          B              7            2    Male   \n",
      "12           13   AsstProf          B              1            1    Male   \n",
      "13           14   AsstProf          B              2            0    Male   \n",
      "14           15       Prof          B             20           18    Male   \n",
      "15           16       Prof          B             12            3    Male   \n",
      "16           17       Prof          B             19           20    Male   \n",
      "17           18       Prof          A             38           34    Male   \n",
      "18           19       Prof          A             37           23    Male   \n",
      "19           20       Prof          A             39           36  Female   \n",
      "20           21       Prof          A             31           26    Male   \n",
      "21           22       Prof          A             36           31    Male   \n",
      "22           23       Prof          A             34           30    Male   \n",
      "23           24       Prof          A             24           19    Male   \n",
      "24           25  AssocProf          A             13            8  Female   \n",
      "25           26       Prof          A             21            8    Male   \n",
      "26           27       Prof          A             35           23    Male   \n",
      "27           28   AsstProf          B              5            3    Male   \n",
      "28           29   AsstProf          B             11            0    Male   \n",
      "29           30       Prof          B             12            8    Male   \n",
      "..          ...        ...        ...            ...          ...     ...   \n",
      "367         368  AssocProf          A             10            1    Male   \n",
      "368         369       Prof          A             35           30    Male   \n",
      "369         370       Prof          A             33           31    Male   \n",
      "370         371  AssocProf          A             13            8    Male   \n",
      "371         372       Prof          A             23           20    Male   \n",
      "372         373       Prof          A             12            7    Male   \n",
      "373         374       Prof          A             30           26    Male   \n",
      "374         375       Prof          A             27           19    Male   \n",
      "375         376       Prof          A             28           26    Male   \n",
      "376         377   AsstProf          A              4            1    Male   \n",
      "377         378   AsstProf          A              6            3    Male   \n",
      "378         379       Prof          A             38           38    Male   \n",
      "379         380  AssocProf          A             11            8    Male   \n",
      "380         381   AsstProf          A              8            3    Male   \n",
      "381         382       Prof          A             27           23    Male   \n",
      "382         383  AssocProf          A              8            5    Male   \n",
      "383         384       Prof          A             44           44    Male   \n",
      "384         385       Prof          A             27           21    Male   \n",
      "385         386       Prof          A             15            9    Male   \n",
      "386         387       Prof          A             29           27    Male   \n",
      "387         388       Prof          A             29           15    Male   \n",
      "388         389       Prof          A             38           36    Male   \n",
      "389         390       Prof          A             33           18    Male   \n",
      "390         391       Prof          A             40           19    Male   \n",
      "391         392       Prof          A             30           19    Male   \n",
      "392         393       Prof          A             33           30    Male   \n",
      "393         394       Prof          A             31           19    Male   \n",
      "394         395       Prof          A             42           25    Male   \n",
      "395         396       Prof          A             25           15    Male   \n",
      "396         397   AsstProf          A              8            4    Male   \n",
      "\n",
      "     salary  \n",
      "0    139750  \n",
      "1    173200  \n",
      "2     79750  \n",
      "3    115000  \n",
      "4    141500  \n",
      "5     97000  \n",
      "6    175000  \n",
      "7    147765  \n",
      "8    119250  \n",
      "9    129000  \n",
      "10   119800  \n",
      "11    79800  \n",
      "12    77700  \n",
      "13    78000  \n",
      "14   104800  \n",
      "15   117150  \n",
      "16   101000  \n",
      "17   103450  \n",
      "18   124750  \n",
      "19   137000  \n",
      "20    89565  \n",
      "21   102580  \n",
      "22    93904  \n",
      "23   113068  \n",
      "24    74830  \n",
      "25   106294  \n",
      "26   134885  \n",
      "27    82379  \n",
      "28    77000  \n",
      "29   118223  \n",
      "..      ...  \n",
      "367  108413  \n",
      "368  131950  \n",
      "369  134690  \n",
      "370   78182  \n",
      "371  110515  \n",
      "372  109707  \n",
      "373  136660  \n",
      "374  103275  \n",
      "375  103649  \n",
      "376   74856  \n",
      "377   77081  \n",
      "378  150680  \n",
      "379  104121  \n",
      "380   75996  \n",
      "381  172505  \n",
      "382   86895  \n",
      "383  105000  \n",
      "384  125192  \n",
      "385  114330  \n",
      "386  139219  \n",
      "387  109305  \n",
      "388  119450  \n",
      "389  186023  \n",
      "390  166605  \n",
      "391  151292  \n",
      "392  103106  \n",
      "393  150564  \n",
      "394  101738  \n",
      "395   95329  \n",
      "396   81035  \n",
      "\n",
      "[397 rows x 7 columns]\n",
      "\n",
      "<class 'pandas.core.frame.DataFrame'>\n",
      "RangeIndex: 397 entries, 0 to 396\n",
      "Data columns (total 7 columns):\n",
      "Unnamed: 0       397 non-null int64\n",
      "rank             397 non-null object\n",
      "discipline       397 non-null object\n",
      "yrs.since.phd    397 non-null int64\n",
      "yrs.service      397 non-null int64\n",
      "sex              397 non-null object\n",
      "salary           397 non-null int64\n",
      "dtypes: int64(4), object(3)\n",
      "memory usage: 21.8+ KB\n",
      "None\n",
      "\n",
      "     Unnamed: 0   rank  discipline  yrs.since.phd  yrs.service    sex  salary\n",
      "0         False  False       False          False        False  False   False\n",
      "1         False  False       False          False        False  False   False\n",
      "2         False  False       False          False        False  False   False\n",
      "3         False  False       False          False        False  False   False\n",
      "4         False  False       False          False        False  False   False\n",
      "5         False  False       False          False        False  False   False\n",
      "6         False  False       False          False        False  False   False\n",
      "7         False  False       False          False        False  False   False\n",
      "8         False  False       False          False        False  False   False\n",
      "9         False  False       False          False        False  False   False\n",
      "10        False  False       False          False        False  False   False\n",
      "11        False  False       False          False        False  False   False\n",
      "12        False  False       False          False        False  False   False\n",
      "13        False  False       False          False        False  False   False\n",
      "14        False  False       False          False        False  False   False\n",
      "15        False  False       False          False        False  False   False\n",
      "16        False  False       False          False        False  False   False\n",
      "17        False  False       False          False        False  False   False\n",
      "18        False  False       False          False        False  False   False\n",
      "19        False  False       False          False        False  False   False\n",
      "20        False  False       False          False        False  False   False\n",
      "21        False  False       False          False        False  False   False\n",
      "22        False  False       False          False        False  False   False\n",
      "23        False  False       False          False        False  False   False\n",
      "24        False  False       False          False        False  False   False\n",
      "25        False  False       False          False        False  False   False\n",
      "26        False  False       False          False        False  False   False\n",
      "27        False  False       False          False        False  False   False\n",
      "28        False  False       False          False        False  False   False\n",
      "29        False  False       False          False        False  False   False\n",
      "..          ...    ...         ...            ...          ...    ...     ...\n",
      "367       False  False       False          False        False  False   False\n",
      "368       False  False       False          False        False  False   False\n",
      "369       False  False       False          False        False  False   False\n",
      "370       False  False       False          False        False  False   False\n",
      "371       False  False       False          False        False  False   False\n",
      "372       False  False       False          False        False  False   False\n",
      "373       False  False       False          False        False  False   False\n",
      "374       False  False       False          False        False  False   False\n",
      "375       False  False       False          False        False  False   False\n",
      "376       False  False       False          False        False  False   False\n",
      "377       False  False       False          False        False  False   False\n",
      "378       False  False       False          False        False  False   False\n",
      "379       False  False       False          False        False  False   False\n",
      "380       False  False       False          False        False  False   False\n",
      "381       False  False       False          False        False  False   False\n",
      "382       False  False       False          False        False  False   False\n",
      "383       False  False       False          False        False  False   False\n",
      "384       False  False       False          False        False  False   False\n",
      "385       False  False       False          False        False  False   False\n",
      "386       False  False       False          False        False  False   False\n",
      "387       False  False       False          False        False  False   False\n",
      "388       False  False       False          False        False  False   False\n",
      "389       False  False       False          False        False  False   False\n",
      "390       False  False       False          False        False  False   False\n",
      "391       False  False       False          False        False  False   False\n",
      "392       False  False       False          False        False  False   False\n",
      "393       False  False       False          False        False  False   False\n",
      "394       False  False       False          False        False  False   False\n",
      "395       False  False       False          False        False  False   False\n",
      "396       False  False       False          False        False  False   False\n",
      "\n",
      "[397 rows x 7 columns]\n",
      "\n",
      "0    Prof\n",
      "dtype: object\n",
      "\n",
      "0    B\n",
      "dtype: object\n",
      "\n",
      "0    Male\n",
      "dtype: object\n",
      "\n",
      "Unnamed: 0 statistics\n",
      "Mean = 199.00\n",
      "Max = 397\n",
      "Min = 1\n",
      "\n",
      "yrs.since.phd statistics\n",
      "Mean = 22.31\n",
      "Max = 56\n",
      "Min = 1\n",
      "\n",
      "yrs.service statistics\n",
      "Mean = 17.61\n",
      "Max = 60\n",
      "Min = 0\n",
      "\n",
      "salary statistics\n",
      "Mean = 113706.46\n",
      "Max = 231545\n",
      "Min = 57800\n",
      "\n"
     ]
    }
   ],
   "source": [
    "import pandas as pd\n",
    "%matplotlib inline \n",
    "\n",
    "salaries = pd.read_csv(\"Salaries.csv\")\n",
    "\n",
    "#Provides the row and columns of dataframe\n",
    "#There are 397 rows in the dataframe\n",
    "#There are 7 columns in the dataframe\n",
    "rows, col = salaries.shape\n",
    "print(\"There are\", rows, \"rows in the dataframe.\")\n",
    "print(\"There are\", col, \"columns in the dataframe.\")\n",
    "print(\"\")\n",
    "\n",
    "#Provides the dataframe\n",
    "print(salaries)\n",
    "print(\"\")\n",
    "\n",
    "#Provdies the data type for each column\n",
    "#There are two types of data which are both numerical and categorical\n",
    "#int64 means integer and object is a category or string entry\n",
    "print(salaries.info())\n",
    "print(\"\")\n",
    "\n",
    "#Scans the dataframe to see if there is any missing values and marks it with a True if there is any.\n",
    "#There are no missing information\n",
    "print(salaries.isnull())\n",
    "print(\"\")\n",
    "\n",
    "#Computes the modes of categorical columns\n",
    "################################################\n",
    "#Computes the mode of column rank\n",
    "#The mode in column rank is Prof\n",
    "print(salaries['rank'].mode())\n",
    "print(\"\")\n",
    "\n",
    "#Computes the mode of column discipline\n",
    "#The mode in column discipline is B\n",
    "print(salaries['discipline'].mode())\n",
    "print(\"\")\n",
    "\n",
    "#Computes the mode of column sex\n",
    "#The mode in column sex is Male  \n",
    "print(salaries['sex'].mode())\n",
    "print(\"\")\n",
    "################################################\n",
    "\n",
    "#Computes the mean of numerical columns\n",
    "################################################\n",
    "#Computes the mean, max, and min values of column Unnamed\n",
    "#The mean in column Unnamed is 199.0\n",
    "#The max in column Unnamed is 397\n",
    "#The min in column Unnamed is 1\n",
    "print(\"Unnamed: 0 statistics\")\n",
    "print(\"Mean =\",format(salaries['Unnamed: 0'].mean(), '.02f'))\n",
    "print(\"Max =\",salaries['Unnamed: 0'].max())\n",
    "print(\"Min =\",salaries['Unnamed: 0'].min())\n",
    "print(\"\")\n",
    "\n",
    "#Computes the mean, max, and min values of column yrs.since.phd\n",
    "#The mean in column yrs.since.phd is 22.31\n",
    "#The max in column yrs.since.phd is 56\n",
    "#The min in column yrs.since.phd is 1\n",
    "print(\"yrs.since.phd statistics\")\n",
    "print(\"Mean =\",format(salaries['yrs.since.phd'].mean(), '.02f'))\n",
    "print(\"Max =\",salaries['yrs.since.phd'].max())\n",
    "print(\"Min =\",salaries['yrs.since.phd'].min())\n",
    "print(\"\")\n",
    "\n",
    "#Computes the mean, max, and min valuse of column yrs.service\n",
    "#The mean in column yrs.service is 17.61\n",
    "#The max in column yrs.service is 60\n",
    "#The min in column yrs.service is 0\n",
    "print(\"yrs.service statistics\")\n",
    "print(\"Mean =\",format(salaries['yrs.service'].mean(), '.02f'))\n",
    "print(\"Max =\",salaries['yrs.service'].max())\n",
    "print(\"Min =\",salaries['yrs.service'].min())\n",
    "print(\"\")\n",
    "\n",
    "#Computes the mean, max, and min valuse of column salary\n",
    "#The mean in column salary is 113706.46\n",
    "#The max in column salary is 231545\n",
    "#The min in column salary is 57800\n",
    "print(\"salary statistics\")\n",
    "print(\"Mean =\",format(salaries['salary'].mean(), '.02f'))\n",
    "print(\"Max =\",salaries['salary'].max())\n",
    "print(\"Min =\",salaries['salary'].min())\n",
    "print(\"\")\n",
    "################################################\n",
    "\n",
    "#Plot histograms for numerical columns see below graphs\n",
    "#Plot bar graph for categorical columns see below graphs\n",
    "\n",
    "#To summarize this dataset about salaries of professors has 397 rows and 7 columns of data. \n",
    "#Both categorical, which had 3 columns, and numerical, which had 4 columns were found, in this data.\n",
    "#There was no missing information and the mode of the categorical columns in order were: Prof, B, and Male.\n",
    "#The mean, max, and min are as followed: Unnamed- mean: 199.00 max: 397 min: 1, yrs.since.phd- mean: 22.31 max: 56 min: 1,\n",
    "#yrs.service mean: 17.61 max: 60 min: 0, salary mean: 113706.46 max: 231545 min: 57800.\n",
    "#Looking at the histogram below can show that a lot of professors are making around 100,000 dollars in salary.\n",
    "#Looking at the bargraph below can show that there is a high rate of male professors than female ones looking like around 350."
   ]
  },
  {
   "cell_type": "code",
   "execution_count": 65,
   "metadata": {},
   "outputs": [
    {
     "name": "stdout",
     "output_type": "stream",
     "text": [
      "AxesSubplot(0.125,0.125;0.775x0.755)\n",
      "\n"
     ]
    },
    {
     "data": {
      "image/png": "[encoded data removed]",
      "text/plain": [
       "<Figure size 432x288 with 1 Axes>"
      ]
     },
     "metadata": {
      "needs_background": "light"
     },
     "output_type": "display_data"
    }
   ],
   "source": [
    "#Plot histograms for numerical columns\n",
    "#note: column Unnamed looks like this because there is no info to compute\n",
    "#Unnamed column histogram\n",
    "print(salaries['Unnamed: 0'].hist())\n",
    "print(\"\")"
   ]
  },
  {
   "cell_type": "code",
   "execution_count": 74,
   "metadata": {},
   "outputs": [
    {
     "name": "stdout",
     "output_type": "stream",
     "text": [
      "AxesSubplot(0.125,0.125;0.775x0.755)\n",
      "\n"
     ]
    },
    {
     "data": {
      "image/png": "[encoded data removed]",
      "text/plain": [
       "<Figure size 432x288 with 1 Axes>"
      ]
     },
     "metadata": {
      "needs_background": "light"
     },
     "output_type": "display_data"
    }
   ],
   "source": [
    "#yrs.since.phd column histogram\n",
    "print(salaries['yrs.since.phd'].hist())\n",
    "print(\"\")"
   ]
  },
  {
   "cell_type": "code",
   "execution_count": 62,
   "metadata": {},
   "outputs": [
    {
     "name": "stdout",
     "output_type": "stream",
     "text": [
      "AxesSubplot(0.125,0.125;0.775x0.755)\n",
      "\n"
     ]
    },
    {
     "data": {
      "image/png": "[encoded data removed]",
      "text/plain": [
       "<Figure size 432x288 with 1 Axes>"
      ]
     },
     "metadata": {
      "needs_background": "light"
     },
     "output_type": "display_data"
    }
   ],
   "source": [
    "#yrs.service column histogram\n",
    "print(salaries['yrs.service'].hist())\n",
    "print(\"\")"
   ]
  },
  {
   "cell_type": "code",
   "execution_count": 66,
   "metadata": {},
   "outputs": [
    {
     "name": "stdout",
     "output_type": "stream",
     "text": [
      "AxesSubplot(0.125,0.125;0.775x0.755)\n",
      "\n"
     ]
    },
    {
     "data": {
      "image/png": "[encoded data removed]",
      "text/plain": [
       "<Figure size 432x288 with 1 Axes>"
      ]
     },
     "metadata": {
      "needs_background": "light"
     },
     "output_type": "display_data"
    }
   ],
   "source": [
    "#salary column histogram\n",
    "print(salaries['salary'].hist())\n",
    "print(\"\")"
   ]
  },
  {
   "cell_type": "code",
   "execution_count": 67,
   "metadata": {},
   "outputs": [
    {
     "name": "stdout",
     "output_type": "stream",
     "text": [
      "\n"
     ]
    },
    {
     "data": {
      "image/png": "[encoded data removed]",
      "text/plain": [
       "<Figure size 432x288 with 1 Axes>"
      ]
     },
     "metadata": {
      "needs_background": "light"
     },
     "output_type": "display_data"
    }
   ],
   "source": [
    "#rank column bar graph\n",
    "salaries['rank'].value_counts().plot(kind='bar')\n",
    "print(\"\")\n"
   ]
  },
  {
   "cell_type": "code",
   "execution_count": 68,
   "metadata": {},
   "outputs": [
    {
     "name": "stdout",
     "output_type": "stream",
     "text": [
      "\n"
     ]
    },
    {
     "data": {
      "image/png": "[encoded data removed]",
      "text/plain": [
       "<Figure size 432x288 with 1 Axes>"
      ]
     },
     "metadata": {
      "needs_background": "light"
     },
     "output_type": "display_data"
    }
   ],
   "source": [
    "#discipline column bar graph\n",
    "salaries['discipline'].value_counts().plot(kind='bar')\n",
    "print(\"\")\n"
   ]
  },
  {
   "cell_type": "code",
   "execution_count": 69,
   "metadata": {},
   "outputs": [
    {
     "name": "stdout",
     "output_type": "stream",
     "text": [
      "\n"
     ]
    },
    {
     "data": {
      "image/png": "[encoded data removed]",
      "text/plain": [
       "<Figure size 432x288 with 1 Axes>"
      ]
     },
     "metadata": {
      "needs_background": "light"
     },
     "output_type": "display_data"
    }
   ],
   "source": [
    "#sex column bar graph\n",
    "salaries['sex'].value_counts().plot(kind='bar')\n",
    "print(\"\")"
   ]
  },
  {
   "cell_type": "code",
   "execution_count": 75,
   "metadata": {},
   "outputs": [
    {
     "name": "stdout",
     "output_type": "stream",
     "text": [
      "There are 50 rows in the dataframe.\n",
      "There are 5 columns in the dataframe.\n",
      "\n",
      "        Unnamed: 0  Murder  Assault  UrbanPop  Rape\n",
      "0          Alabama    13.2      236        58  21.2\n",
      "1           Alaska    10.0      263        48  44.5\n",
      "2          Arizona     8.1      294        80  31.0\n",
      "3         Arkansas     8.8      190        50  19.5\n",
      "4       California     9.0      276        91  40.6\n",
      "5         Colorado     7.9      204        78  38.7\n",
      "6      Connecticut     3.3      110        77  11.1\n",
      "7         Delaware     5.9      238        72  15.8\n",
      "8          Florida    15.4      335        80  31.9\n",
      "9          Georgia    17.4      211        60  25.8\n",
      "10          Hawaii     5.3       46        83  20.2\n",
      "11           Idaho     2.6      120        54  14.2\n",
      "12        Illinois    10.4      249        83  24.0\n",
      "13         Indiana     7.2      113        65  21.0\n",
      "14            Iowa     2.2       56        57  11.3\n",
      "15          Kansas     6.0      115        66  18.0\n",
      "16        Kentucky     9.7      109        52  16.3\n",
      "17       Louisiana    15.4      249        66  22.2\n",
      "18           Maine     2.1       83        51   7.8\n",
      "19        Maryland    11.3      300        67  27.8\n",
      "20   Massachusetts     4.4      149        85  16.3\n",
      "21        Michigan    12.1      255        74  35.1\n",
      "22       Minnesota     2.7       72        66  14.9\n",
      "23     Mississippi    16.1      259        44  17.1\n",
      "24        Missouri     9.0      178        70  28.2\n",
      "25         Montana     6.0      109        53  16.4\n",
      "26        Nebraska     4.3      102        62  16.5\n",
      "27          Nevada    12.2      252        81  46.0\n",
      "28   New Hampshire     2.1       57        56   9.5\n",
      "29      New Jersey     7.4      159        89  18.8\n",
      "30      New Mexico    11.4      285        70  32.1\n",
      "31        New York    11.1      254        86  26.1\n",
      "32  North Carolina    13.0      337        45  16.1\n",
      "33    North Dakota     0.8       45        44   7.3\n",
      "34            Ohio     7.3      120        75  21.4\n",
      "35        Oklahoma     6.6      151        68  20.0\n",
      "36          Oregon     4.9      159        67  29.3\n",
      "37    Pennsylvania     6.3      106        72  14.9\n",
      "38    Rhode Island     3.4      174        87   8.3\n",
      "39  South Carolina    14.4      279        48  22.5\n",
      "40    South Dakota     3.8       86        45  12.8\n",
      "41       Tennessee    13.2      188        59  26.9\n",
      "42           Texas    12.7      201        80  25.5\n",
      "43            Utah     3.2      120        80  22.9\n",
      "44         Vermont     2.2       48        32  11.2\n",
      "45        Virginia     8.5      156        63  20.7\n",
      "46      Washington     4.0      145        73  26.2\n",
      "47   West Virginia     5.7       81        39   9.3\n",
      "48       Wisconsin     2.6       53        66  10.8\n",
      "49         Wyoming     6.8      161        60  15.6\n",
      "\n",
      "<class 'pandas.core.frame.DataFrame'>\n",
      "RangeIndex: 50 entries, 0 to 49\n",
      "Data columns (total 5 columns):\n",
      "Unnamed: 0    50 non-null object\n",
      "Murder        50 non-null float64\n",
      "Assault       50 non-null int64\n",
      "UrbanPop      50 non-null int64\n",
      "Rape          50 non-null float64\n",
      "dtypes: float64(2), int64(2), object(1)\n",
      "memory usage: 2.0+ KB\n",
      "None\n",
      "\n",
      "    Unnamed: 0  Murder  Assault  UrbanPop   Rape\n",
      "0        False   False    False     False  False\n",
      "1        False   False    False     False  False\n",
      "2        False   False    False     False  False\n",
      "3        False   False    False     False  False\n",
      "4        False   False    False     False  False\n",
      "5        False   False    False     False  False\n",
      "6        False   False    False     False  False\n",
      "7        False   False    False     False  False\n",
      "8        False   False    False     False  False\n",
      "9        False   False    False     False  False\n",
      "10       False   False    False     False  False\n",
      "11       False   False    False     False  False\n",
      "12       False   False    False     False  False\n",
      "13       False   False    False     False  False\n",
      "14       False   False    False     False  False\n",
      "15       False   False    False     False  False\n",
      "16       False   False    False     False  False\n",
      "17       False   False    False     False  False\n",
      "18       False   False    False     False  False\n",
      "19       False   False    False     False  False\n",
      "20       False   False    False     False  False\n",
      "21       False   False    False     False  False\n",
      "22       False   False    False     False  False\n",
      "23       False   False    False     False  False\n",
      "24       False   False    False     False  False\n",
      "25       False   False    False     False  False\n",
      "26       False   False    False     False  False\n",
      "27       False   False    False     False  False\n",
      "28       False   False    False     False  False\n",
      "29       False   False    False     False  False\n",
      "30       False   False    False     False  False\n",
      "31       False   False    False     False  False\n",
      "32       False   False    False     False  False\n",
      "33       False   False    False     False  False\n",
      "34       False   False    False     False  False\n",
      "35       False   False    False     False  False\n",
      "36       False   False    False     False  False\n",
      "37       False   False    False     False  False\n",
      "38       False   False    False     False  False\n",
      "39       False   False    False     False  False\n",
      "40       False   False    False     False  False\n",
      "41       False   False    False     False  False\n",
      "42       False   False    False     False  False\n",
      "43       False   False    False     False  False\n",
      "44       False   False    False     False  False\n",
      "45       False   False    False     False  False\n",
      "46       False   False    False     False  False\n",
      "47       False   False    False     False  False\n",
      "48       False   False    False     False  False\n",
      "49       False   False    False     False  False\n",
      "\n",
      "0            Alabama\n",
      "1             Alaska\n",
      "2            Arizona\n",
      "3           Arkansas\n",
      "4         California\n",
      "5           Colorado\n",
      "6        Connecticut\n",
      "7           Delaware\n",
      "8            Florida\n",
      "9            Georgia\n",
      "10            Hawaii\n",
      "11             Idaho\n",
      "12          Illinois\n",
      "13           Indiana\n",
      "14              Iowa\n",
      "15            Kansas\n",
      "16          Kentucky\n",
      "17         Louisiana\n",
      "18             Maine\n",
      "19          Maryland\n",
      "20     Massachusetts\n",
      "21          Michigan\n",
      "22         Minnesota\n",
      "23       Mississippi\n",
      "24          Missouri\n",
      "25           Montana\n",
      "26          Nebraska\n",
      "27            Nevada\n",
      "28     New Hampshire\n",
      "29        New Jersey\n",
      "30        New Mexico\n",
      "31          New York\n",
      "32    North Carolina\n",
      "33      North Dakota\n",
      "34              Ohio\n",
      "35          Oklahoma\n",
      "36            Oregon\n",
      "37      Pennsylvania\n",
      "38      Rhode Island\n",
      "39    South Carolina\n",
      "40      South Dakota\n",
      "41         Tennessee\n",
      "42             Texas\n",
      "43              Utah\n",
      "44           Vermont\n",
      "45          Virginia\n",
      "46        Washington\n",
      "47     West Virginia\n",
      "48         Wisconsin\n",
      "49           Wyoming\n",
      "dtype: object\n",
      "\n",
      "Murder statistics\n",
      "Mean = 7.79\n",
      "Max = 17.4\n",
      "Min = 0.8\n",
      "\n",
      "Assault statistics\n",
      "Mean = 170.76\n",
      "Max = 337\n",
      "Min = 45\n",
      "\n",
      "UrbanPop statistics\n",
      "Mean = 65.54\n",
      "Max = 91\n",
      "Min = 32\n",
      "\n",
      "Rape statistics\n",
      "Mean = 21.23\n",
      "Max = 46.0\n",
      "Min = 7.3\n",
      "\n"
     ]
    }
   ],
   "source": [
    "us_arrests = pd.read_csv(\"USArrests.csv\")\n",
    "\n",
    "#Provides the row and columns of dataframe\n",
    "#There are 397 rows in the dataframe\n",
    "#There are 7 columns in the dataframe\n",
    "urows, ucol = us_arrests.shape\n",
    "print(\"There are\", urows, \"rows in the dataframe.\")\n",
    "print(\"There are\", ucol, \"columns in the dataframe.\")\n",
    "print(\"\")\n",
    "\n",
    "#Provides the dataframe\n",
    "print(us_arrests)\n",
    "print(\"\")\n",
    "\n",
    "#Provdies the data type for each column\n",
    "#There are two types of data which are both numerical and categorical\n",
    "#int64 means integer and object is a category or string entry\n",
    "print(us_arrests.info())\n",
    "print(\"\")\n",
    "\n",
    "#Scans the dataframe to see if there is any missing values and marks it with a True if there is any.\n",
    "#There are no missing information\n",
    "print(us_arrests.isnull())\n",
    "print(\"\")\n",
    "\n",
    "#Computes the modes of categorical columns\n",
    "################################################\n",
    "#Computes the mode of column Unnamed: 0\n",
    "#The mode in column rank is all states appear the same amount of times which is once\n",
    "print(us_arrests['Unnamed: 0'].mode())\n",
    "print(\"\")\n",
    "\n",
    "################################################\n",
    "\n",
    "#Computes the mean of numerical columns\n",
    "################################################\n",
    "#Computes the mean, max, and min values of column Murder\n",
    "#The mean in column Murder is \n",
    "#The max in column Murder is \n",
    "#The min in column Murder is \n",
    "print(\"Murder statistics\")\n",
    "print(\"Mean =\",format(us_arrests['Murder'].mean(), '.02f'))\n",
    "print(\"Max =\",us_arrests['Murder'].max())\n",
    "print(\"Min =\",us_arrests['Murder'].min())\n",
    "print(\"\")\n",
    "\n",
    "#Computes the mean, max, and min values of column Assault\n",
    "#The mean in column Assault is \n",
    "#The max in column Assault is \n",
    "#The min in column Assault is \n",
    "print(\"Assault statistics\")\n",
    "print(\"Mean =\",format(us_arrests['Assault'].mean(), '.02f'))\n",
    "print(\"Max =\",us_arrests['Assault'].max())\n",
    "print(\"Min =\",us_arrests['Assault'].min())\n",
    "print(\"\")\n",
    "\n",
    "#Computes the mean, max, and min valuse of column UrbanPop\n",
    "#The mean in column UrbanPop is 17.61\n",
    "#The max in column UrbanPop is 60\n",
    "#The min in column UrbanPop is 0\n",
    "print(\"UrbanPop statistics\")\n",
    "print(\"Mean =\",format(us_arrests['UrbanPop'].mean(), '.02f'))\n",
    "print(\"Max =\",us_arrests['UrbanPop'].max())\n",
    "print(\"Min =\",us_arrests['UrbanPop'].min())\n",
    "print(\"\")\n",
    "\n",
    "#Computes the mean, max, and min valuse of column Rape\n",
    "#The mean in column Rape is 113706.46\n",
    "#The max in column Rape is 231545\n",
    "#The min in column Rape is 57800\n",
    "print(\"Rape statistics\")\n",
    "print(\"Mean =\",format(us_arrests['Rape'].mean(), '.02f'))\n",
    "print(\"Max =\",us_arrests['Rape'].max())\n",
    "print(\"Min =\",us_arrests['Rape'].min())\n",
    "print(\"\")\n",
    "################################################\n",
    "\n",
    "#Plot histograms for numerical columns see below graphs\n",
    "#Plot bar graph for categorical columns see below graphs\n",
    "\n",
    "#To summarize this dataset about united states arrests has 50 rows and 5 columns of data. \n",
    "#Both categorical, which had 1 column, and numerical, which had 4 columns were found, in this data.\n",
    "#There was no missing information and the mode of the categorical columns were all of the states since each state appeared once.\n",
    "#The mean, max, and min are as followed: Murder- mean: 7.79 max: 17.4 min: 0.8, Assault- mean: 170.76 max: 337 min: 45,\n",
    "#UrbanPop mean: 65.54 max: 91 min: 32, Rape mean: 21.23 max: 46.0 min: 7.3.\n",
    "#Looking at the histogram below can show that a lot of assults are happening in the united states with alot being in the 100 to 150 range.\n",
    "#Looking at the bargraph below can show that the bar graph could not calculate a good bar graph since all states appear once and there\n",
    "#was not enough info."
   ]
  },
  {
   "cell_type": "code",
   "execution_count": 79,
   "metadata": {},
   "outputs": [
    {
     "name": "stdout",
     "output_type": "stream",
     "text": [
      "AxesSubplot(0.125,0.125;0.775x0.755)\n",
      "\n"
     ]
    },
    {
     "data": {
      "image/png": "[encoded data removed]",
      "text/plain": [
       "<Figure size 432x288 with 1 Axes>"
      ]
     },
     "metadata": {
      "needs_background": "light"
     },
     "output_type": "display_data"
    }
   ],
   "source": [
    "#Murder column histogram\n",
    "print(us_arrests['Murder'].hist())\n",
    "print(\"\")"
   ]
  },
  {
   "cell_type": "code",
   "execution_count": 80,
   "metadata": {},
   "outputs": [
    {
     "name": "stdout",
     "output_type": "stream",
     "text": [
      "AxesSubplot(0.125,0.125;0.775x0.755)\n",
      "\n"
     ]
    },
    {
     "data": {
      "image/png": "[encoded data removed]",
      "text/plain": [
       "<Figure size 432x288 with 1 Axes>"
      ]
     },
     "metadata": {
      "needs_background": "light"
     },
     "output_type": "display_data"
    }
   ],
   "source": [
    "#Assault column histogram\n",
    "print(us_arrests['Assault'].hist())\n",
    "print(\"\")"
   ]
  },
  {
   "cell_type": "code",
   "execution_count": 81,
   "metadata": {},
   "outputs": [
    {
     "name": "stdout",
     "output_type": "stream",
     "text": [
      "AxesSubplot(0.125,0.125;0.775x0.755)\n",
      "\n"
     ]
    },
    {
     "data": {
      "image/png": "[encoded data removed]",
      "text/plain": [
       "<Figure size 432x288 with 1 Axes>"
      ]
     },
     "metadata": {
      "needs_background": "light"
     },
     "output_type": "display_data"
    }
   ],
   "source": [
    "#UrbanPop column histogram\n",
    "print(us_arrests['UrbanPop'].hist())\n",
    "print(\"\")"
   ]
  },
  {
   "cell_type": "code",
   "execution_count": 82,
   "metadata": {},
   "outputs": [
    {
     "name": "stdout",
     "output_type": "stream",
     "text": [
      "AxesSubplot(0.125,0.125;0.775x0.755)\n",
      "\n"
     ]
    },
    {
     "data": {
      "image/png": "[encoded data removed]",
      "text/plain": [
       "<Figure size 432x288 with 1 Axes>"
      ]
     },
     "metadata": {
      "needs_background": "light"
     },
     "output_type": "display_data"
    }
   ],
   "source": [
    "#Rape column histogram\n",
    "print(us_arrests['Rape'].hist())\n",
    "print(\"\")"
   ]
  },
  {
   "cell_type": "code",
   "execution_count": 78,
   "metadata": {},
   "outputs": [
    {
     "name": "stdout",
     "output_type": "stream",
     "text": [
      "\n"
     ]
    },
    {
     "data": {
      "image/png": "[encoded data removed]",
      "text/plain": [
       "<Figure size 432x288 with 1 Axes>"
      ]
     },
     "metadata": {
      "needs_background": "light"
     },
     "output_type": "display_data"
    }
   ],
   "source": [
    "# column bar graph\n",
    "#note ever state appears the same amount of times so its once\n",
    "us_arrests['Unnamed: 0'].value_counts().plot(kind='bar')\n",
    "print(\"\")"
   ]
  }
 ],
 "metadata": {
  "kernelspec": {
   "display_name": "Python 3",
   "language": "python",
   "name": "python3"
  },
  "language_info": {
   "codemirror_mode": {
    "name": "ipython",
    "version": 3
   },
   "file_extension": ".py",
   "mimetype": "text/x-python",
   "name": "python",
   "nbconvert_exporter": "python",
   "pygments_lexer": "ipython3",
   "version": "3.7.4"
  }
 },
 "nbformat": 4,
 "nbformat_minor": 2
}